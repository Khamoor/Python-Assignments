{
 "cells": [
  {
   "cell_type": "code",
   "execution_count": 7,
   "metadata": {},
   "outputs": [
    {
     "name": "stdout",
     "output_type": "stream",
     "text": [
      "        Twinkle, twinkle, little star,\n",
      "                How I wonder what you are!\n",
      "                        Up above the world so high,\n",
      "                        Like a diamond in the sky.\n",
      "        Twinkle, twinkle, little star,\n",
      "                How I wonder what you are\n"
     ]
    }
   ],
   "source": [
    "print(\"        Twinkle, twinkle, little star,\")\n",
    "print(\"                How I wonder what you are!\")\n",
    "print(\"                        Up above the world so high,\")\n",
    "print(\"                        Like a diamond in the sky.\")\n",
    "print(\"        Twinkle, twinkle, little star,\")\n",
    "print(\"                How I wonder what you are\")"
   ]
  },
  {
   "cell_type": "code",
   "execution_count": 8,
   "metadata": {},
   "outputs": [
    {
     "name": "stdout",
     "output_type": "stream",
     "text": [
      "Python version: 3.7.3\n"
     ]
    }
   ],
   "source": [
    "print(\"Python version: 3.7.3\")"
   ]
  },
  {
   "cell_type": "code",
   "execution_count": 9,
   "metadata": {},
   "outputs": [
    {
     "name": "stdout",
     "output_type": "stream",
     "text": [
      "Date: 02-11-2019\n",
      "Time: 09:03 AM\n"
     ]
    }
   ],
   "source": [
    "print(\"Date: 02-11-2019\")\n",
    "print(\"Time: 09:03 AM\")"
   ]
  },
  {
   "cell_type": "code",
   "execution_count": 22,
   "metadata": {},
   "outputs": [
    {
     "name": "stdout",
     "output_type": "stream",
     "text": [
      "Input the radius of a Circle: 5\n",
      "78.5\n"
     ]
    }
   ],
   "source": [
    "radius = int(input(\"Input the radius of a Circle: \"))\n",
    "area = 3.14 * (radius ** 2)\n",
    "print(area)"
   ]
  },
  {
   "cell_type": "code",
   "execution_count": 60,
   "metadata": {},
   "outputs": [
    {
     "name": "stdout",
     "output_type": "stream",
     "text": [
      "Enter your First Name: Muhammad\n",
      "Enter your Last Name: Habib\n",
      "dammahuM bibaH\n"
     ]
    }
   ],
   "source": [
    "first_name = input(\"Enter your First Name: \")\n",
    "last_name = input(\"Enter your Last Name: \")\n",
    "print(first_name[::-1] + \" \" + last_name[::-1])"
   ]
  },
  {
   "cell_type": "code",
   "execution_count": 11,
   "metadata": {},
   "outputs": [
    {
     "name": "stdout",
     "output_type": "stream",
     "text": [
      "Enter a First Number: 5\n",
      "Enter a Second Number: 5\n",
      "Addition of a Number is: 10\n"
     ]
    }
   ],
   "source": [
    "a = int(input(\"Enter a First Number: \"))\n",
    "b = int(input(\"Enter a Second Number: \"))\n",
    "c = a + b\n",
    "print(\"Addition of a Number is:\", c)"
   ]
  }
 ],
 "metadata": {
  "kernelspec": {
   "display_name": "Python 3",
   "language": "python",
   "name": "python3"
  },
  "language_info": {
   "codemirror_mode": {
    "name": "ipython",
    "version": 3
   },
   "file_extension": ".py",
   "mimetype": "text/x-python",
   "name": "python",
   "nbconvert_exporter": "python",
   "pygments_lexer": "ipython3",
   "version": "3.7.3"
  }
 },
 "nbformat": 4,
 "nbformat_minor": 2
}
