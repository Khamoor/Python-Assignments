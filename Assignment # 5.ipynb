{
 "cells": [
  {
   "cell_type": "code",
   "execution_count": 24,
   "metadata": {},
   "outputs": [
    {
     "name": "stdout",
     "output_type": "stream",
     "text": [
      "The factorial of 5 is 120\n"
     ]
    }
   ],
   "source": [
    "def factorial(n):\n",
    "    if n == 1:\n",
    "        return n\n",
    "    else:\n",
    "        return n * factorial(n-1)\n",
    "\n",
    "num = 5\n",
    "\n",
    "# Checking if the number is negative\n",
    "if num < 0:\n",
    "    print(\"Sorry, factorial does not exist for negative numbers\")\n",
    "elif num == 0:\n",
    "    print(\"The factorial of 0 is 1\")\n",
    "else:\n",
    "    print(\"The factorial of\", num, \"is\", factorial(num))"
   ]
  },
  {
   "cell_type": "code",
   "execution_count": 37,
   "metadata": {},
   "outputs": [
    {
     "name": "stdout",
     "output_type": "stream",
     "text": [
      "Original String :  Python is the easy Language\n",
      "No. of Upper case characters :  2\n",
      "No. of Lower case Characters :  21\n"
     ]
    }
   ],
   "source": [
    "def check_casing(s):\n",
    "    d = {\"UPPER_CASE\" : 0, \"LOWER_CASE\" : 0}\n",
    "    for l in s:\n",
    "        if l.isupper():\n",
    "            d[\"UPPER_CASE\"]+=1\n",
    "        elif l.islower():\n",
    "            d[\"LOWER_CASE\"]+=1\n",
    "        else:\n",
    "            pass\n",
    "    print (\"Original String : \", s)\n",
    "    print (\"No. of Upper case characters : \", d[\"UPPER_CASE\"])\n",
    "    print (\"No. of Lower case Characters : \", d[\"LOWER_CASE\"])\n",
    "\n",
    "check_casing('Python is the easy Language')"
   ]
  },
  {
   "cell_type": "code",
   "execution_count": 36,
   "metadata": {},
   "outputs": [
    {
     "name": "stdout",
     "output_type": "stream",
     "text": [
      "Even Numbers is 10, Even Numbers is 4, Even Numbers is 66, "
     ]
    }
   ],
   "source": [
    "def even_number(l):\n",
    "    for n in l:\n",
    "        if n % 2 == 0:\n",
    "            print(\"Even Numbers is\", n, end = \", \")\n",
    "\n",
    "lists = [10, 21, 4, 45, 66, 93] \n",
    "even_number(lists)"
   ]
  },
  {
   "cell_type": "code",
   "execution_count": 29,
   "metadata": {},
   "outputs": [
    {
     "name": "stdout",
     "output_type": "stream",
     "text": [
      "Text madam is Palindrome\n"
     ]
    }
   ],
   "source": [
    "def palindrome(x):\n",
    "    palindrome = \"\"\n",
    "    for x in range(len(text)-1,-1,-1):\n",
    "        palindrome += text[x]\n",
    "    if palindrome == text:\n",
    "        print(f\"Text {text} is Palindrome\")\n",
    "    else:\n",
    "        print(f\"Text {text} is not a Palindrome\")\n",
    "text = 'madam'\n",
    "palindrome(text)"
   ]
  },
  {
   "cell_type": "code",
   "execution_count": 139,
   "metadata": {},
   "outputs": [
    {
     "name": "stdout",
     "output_type": "stream",
     "text": [
      "7 is a prime number\n"
     ]
    }
   ],
   "source": [
    "def check_prime(n):\n",
    "    if n == 1:\n",
    "        return False\n",
    "    elif n == 2:\n",
    "        return True\n",
    "    else:\n",
    "        for x in range(2, n):\n",
    "            if n % x == 0:\n",
    "                return False\n",
    "        return True \n",
    "\n",
    "num = 7\n",
    "\n",
    "if check_prime(num):\n",
    "    print(num, \"is a prime number\")\n",
    "else:\n",
    "    print(num, \"is not a prime number\") "
   ]
  },
  {
   "cell_type": "code",
   "execution_count": 141,
   "metadata": {},
   "outputs": [
    {
     "name": "stdout",
     "output_type": "stream",
     "text": [
      "User bought from Market Fruits\n",
      "User bought from Market Vegetables\n",
      "User bought from Market Clothes\n",
      "User bought from Market Shoes\n"
     ]
    }
   ],
   "source": [
    "def shopping_list(*items):\n",
    "    for item in items:\n",
    "        print(\"User bought from Market\", item)\n",
    "\n",
    "shopping_list('Fruits', 'Vegetables', 'Clothes', 'Shoes')"
   ]
  }
 ],
 "metadata": {
  "kernelspec": {
   "display_name": "Python 3",
   "language": "python",
   "name": "python3"
  },
  "language_info": {
   "codemirror_mode": {
    "name": "ipython",
    "version": 3
   },
   "file_extension": ".py",
   "mimetype": "text/x-python",
   "name": "python",
   "nbconvert_exporter": "python",
   "pygments_lexer": "ipython3",
   "version": "3.7.3"
  }
 },
 "nbformat": 4,
 "nbformat_minor": 2
}
