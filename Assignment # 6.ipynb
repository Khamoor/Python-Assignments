{
 "cells": [
  {
   "cell_type": "markdown",
   "metadata": {},
   "source": [
    "### Question 1: \n",
    "**Define Object Oriented Programming Language?**"
   ]
  },
  {
   "cell_type": "markdown",
   "metadata": {},
   "source": [
    "**Object-Oriented Programming (OOP)** is a paradigm in which real-world objects are each viewed as separate entities having their own state which is modified only by built in procedures, called methods."
   ]
  },
  {
   "cell_type": "markdown",
   "metadata": {},
   "source": [
    "### Question 2:\n",
    "**List down the Benefits of OOP?**"
   ]
  },
  {
   "cell_type": "markdown",
   "metadata": {},
   "source": [
    "- The Programming gets easy and efficient\n",
    "- The class is sharable, so codes can be reused\n",
    "- The productivity of programmers increases\n",
    "- Data is safe and secure with data abstraction"
   ]
  },
  {
   "cell_type": "markdown",
   "metadata": {},
   "source": [
    "### Question 3:\n",
    "**Differentiate between function and method?**"
   ]
  },
  {
   "cell_type": "markdown",
   "metadata": {},
   "source": [
    "**Method** and a **Function** are the same, with different terms.\n",
    "- A **method** is a piece of code that is called by a name that is associated with an object.\n",
    "- A **function** is a group of reusable code which can be called anywhere in a program."
   ]
  },
  {
   "cell_type": "markdown",
   "metadata": {},
   "source": [
    "### Question 4:\n",
    "**Define the following terms:**\n",
    "1. Class\n",
    "2. Object\n",
    "3. Attribute\n",
    "4. Behavior"
   ]
  },
  {
   "cell_type": "markdown",
   "metadata": {},
   "source": [
    "#### 1. Class:\n",
    "It is a template or blue print about the capability of what an object can do.\n",
    "#### 2. Object:\n",
    "An object(instance) is an instantiation of a class. When class is defined, only the description for the object is defined. Therefore, no memory or storage is allocated.\n",
    "#### 3. Attribute:\n",
    "Attributes are the properties of the object.\n",
    "#### 4. Behavior:\n",
    "Method is a function defined inside the body of a class. They are used to define the behavior of an object."
   ]
  },
  {
   "cell_type": "markdown",
   "metadata": {},
   "source": [
    "### Question 5:\n",
    "**Write a code in python in which create a class named it Car which have 5 attributes such like (model, color and name etc) and 3 methods. And create 5 object instance from that class.**"
   ]
  },
  {
   "cell_type": "code",
   "execution_count": 20,
   "metadata": {},
   "outputs": [
    {
     "name": "stdout",
     "output_type": "stream",
     "text": [
      "2019 Alto Vxl 660Cc White\n",
      "Its speed is 25km/hr.\n",
      "This car gives 25 kilometers mileage.\n",
      "\n",
      " 2015 Cultus Vxr 1000Cc Blue\n",
      "Its speed is 30km/hr.\n",
      "This car gives 12 kilometers mileage.\n",
      "\n",
      " 2019 Corolla Altis 1.8 1798Cc Black\n",
      "Its speed is 80km/hr.\n",
      "This car gives 22 kilometers mileage.\n",
      "\n",
      " 2017 Honda Civic 1799Cc White\n",
      "Its speed is 65km/hr.\n",
      "This car gives 26 kilometers mileage.\n",
      "\n",
      " 2018 Hundai Ioniq 1580Cc Red\n",
      "Its speed is 60km/hr.\n",
      "This car gives 23 kilometers mileage.\n"
     ]
    }
   ],
   "source": [
    "class Car():\n",
    "    def __init__(self, name, model, year, engine, color):\n",
    "        self.name = name\n",
    "        self.model = model\n",
    "        self.year = year\n",
    "        self.engine = engine\n",
    "        self.color = color\n",
    "        \n",
    "    def speed(self, speed):\n",
    "        print(\"Its speed is \" + str(speed) + \"km/hr.\")\n",
    "        \n",
    "    def mileage(self, km):\n",
    "        print(\"This car gives \" + str(km) + \" kilometers mileage.\")\n",
    "        \n",
    "    def get_descriptive_name(self):\n",
    "        long_name = str(self.year) + ' ' + self.name + ' ' + self.model + ' ' + self.engine + ' ' + self.color\n",
    "        return long_name.title()\n",
    "        \n",
    "car1 = Car('Alto', 'VXL', 2019, '660cc', 'White')\n",
    "car2 = Car('Cultus', 'VXR', 2015, '1000cc', 'Blue')\n",
    "car3 = Car('Corolla', 'Altis 1.8', 2019, '1798cc', 'Black')\n",
    "car4 = Car('Honda', 'Civic', 2017, '1799cc', 'White')\n",
    "car5 = Car('Hundai', 'Ioniq', 2018, '1580cc', 'red')\n",
    "\n",
    "print(car1.get_descriptive_name())\n",
    "car1.speed(25)\n",
    "car1.mileage(25)\n",
    "print(\"\\n\", car2.get_descriptive_name())\n",
    "car1.speed(30)\n",
    "car1.mileage(12)\n",
    "print(\"\\n\", car3.get_descriptive_name())\n",
    "car1.speed(80)\n",
    "car1.mileage(22)\n",
    "print(\"\\n\", car4.get_descriptive_name())\n",
    "car1.speed(65)\n",
    "car1.mileage(26)\n",
    "print(\"\\n\", car5.get_descriptive_name())\n",
    "car1.speed(60)\n",
    "car1.mileage(23)"
   ]
  }
 ],
 "metadata": {
  "kernelspec": {
   "display_name": "Python 3",
   "language": "python",
   "name": "python3"
  },
  "language_info": {
   "codemirror_mode": {
    "name": "ipython",
    "version": 3
   },
   "file_extension": ".py",
   "mimetype": "text/x-python",
   "name": "python",
   "nbconvert_exporter": "python",
   "pygments_lexer": "ipython3",
   "version": "3.7.3"
  }
 },
 "nbformat": 4,
 "nbformat_minor": 2
}
