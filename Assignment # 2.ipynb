{
 "cells": [
  {
   "cell_type": "code",
   "execution_count": 37,
   "metadata": {},
   "outputs": [
    {
     "name": "stdout",
     "output_type": "stream",
     "text": [
      "Enter English Marks: 76\n",
      "Enter Maths Marks: 92\n",
      "Enter Physics Marks: 87\n",
      "Enter Chemistry Marks: 85\n",
      "Enter Urdu Marks: 73\n",
      "\n",
      "**********Marksheet**********\n",
      "\n",
      "English:\t 76\n",
      "Maths:\t\t 92\n",
      "Physics:\t 87\n",
      "Chemistry:\t 85\n",
      "Urdu:\t\t 73\n",
      "\n",
      "Total:\t\t 413\n",
      "Percentage:\t82.6%\n",
      "Grade:\t\t A+\n"
     ]
    }
   ],
   "source": [
    "a = int(input(\"Enter English Marks: \"))\n",
    "b = int(input(\"Enter Maths Marks: \"))\n",
    "c = int(input(\"Enter Physics Marks: \"))\n",
    "d = int(input(\"Enter Chemistry Marks: \"))\n",
    "e = int(input(\"Enter Urdu Marks: \"))\n",
    "total_marks = 500\n",
    "total_obtained = a + b + c + d + e\n",
    "percentage = (total_obtained / total_marks) * 100\n",
    "print()\n",
    "\n",
    "if percentage >= 80:\n",
    "    grade = \"A+\"\n",
    "elif percentage >= 70:\n",
    "    grade = \"A\"\n",
    "elif percentage >= 60:\n",
    "    grade = \"B\"\n",
    "elif percentage >= 50:\n",
    "    grade = \"C\"\n",
    "elif percentage >= 40:\n",
    "    grade = \"E\"\n",
    "else:\n",
    "    grade = \"F\"\n",
    "\n",
    "print(\"*\"*10 + \"Marksheet\" + \"*\"*10)\n",
    "print()\n",
    "print(\"English:\\t\", a)\n",
    "print(\"Maths:\\t\\t\", b)\n",
    "print(\"Physics:\\t\", c)\n",
    "print(\"Chemistry:\\t\", d)\n",
    "print(\"Urdu:\\t\\t\", e)\n",
    "print()\n",
    "print(\"Total:\\t\\t\", total_obtained)\n",
    "print(\"Percentage:\\t\" + str(percentage) + \"%\")\n",
    "print(\"Grade:\\t\\t\", grade)"
   ]
  },
  {
   "cell_type": "code",
   "execution_count": 3,
   "metadata": {},
   "outputs": [
    {
     "name": "stdout",
     "output_type": "stream",
     "text": [
      "Enter a number: 3\n",
      "Entered Number is Odd.\n"
     ]
    }
   ],
   "source": [
    "num = int(input(\"Enter a number: \"))\n",
    "if num % 2 == 0:\n",
    "    print(\"Entered Number is Even.\")\n",
    "else:\n",
    "    print(\"Entered Number is Odd.\")"
   ]
  },
  {
   "cell_type": "code",
   "execution_count": 6,
   "metadata": {},
   "outputs": [
    {
     "name": "stdout",
     "output_type": "stream",
     "text": [
      "The length of the list is 3\n"
     ]
    }
   ],
   "source": [
    "names = ['Haris', 'Ali', 'Umer']\n",
    "l = len(names)\n",
    "print(\"The length of the list is\", l)"
   ]
  },
  {
   "cell_type": "code",
   "execution_count": 7,
   "metadata": {},
   "outputs": [
    {
     "data": {
      "text/plain": [
       "15"
      ]
     },
     "execution_count": 7,
     "metadata": {},
     "output_type": "execute_result"
    }
   ],
   "source": [
    "nums = [1, 2, 3, 4, 5]\n",
    "sum(nums)"
   ]
  },
  {
   "cell_type": "code",
   "execution_count": 9,
   "metadata": {},
   "outputs": [
    {
     "data": {
      "text/plain": [
       "19"
      ]
     },
     "execution_count": 9,
     "metadata": {},
     "output_type": "execute_result"
    }
   ],
   "source": [
    "nums = [15, 5, 1, 19, 4, 11, 7]\n",
    "max(nums)"
   ]
  },
  {
   "cell_type": "code",
   "execution_count": 15,
   "metadata": {},
   "outputs": [
    {
     "name": "stdout",
     "output_type": "stream",
     "text": [
      "1\n",
      "1\n",
      "2\n",
      "3\n"
     ]
    }
   ],
   "source": [
    "a = [1, 1, 2, 3, 5, 8, 13, 21, 34, 55, 89]\n",
    "for n in a:\n",
    "    if n < 5:\n",
    "        print(n)"
   ]
  }
 ],
 "metadata": {
  "kernelspec": {
   "display_name": "Python 3",
   "language": "python",
   "name": "python3"
  },
  "language_info": {
   "codemirror_mode": {
    "name": "ipython",
    "version": 3
   },
   "file_extension": ".py",
   "mimetype": "text/x-python",
   "name": "python",
   "nbconvert_exporter": "python",
   "pygments_lexer": "ipython3",
   "version": "3.7.3"
  }
 },
 "nbformat": 4,
 "nbformat_minor": 2
}
