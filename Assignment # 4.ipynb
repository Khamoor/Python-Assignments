{
 "cells": [
  {
   "cell_type": "code",
   "execution_count": 21,
   "metadata": {},
   "outputs": [
    {
     "name": "stdout",
     "output_type": "stream",
     "text": [
      "{'first_name': 'Abdullah', 'last_name': 'Khamoor', 'age': 15, 'city': 'Karachi'}\n",
      "{'first_name': 'Abdullah', 'last_name': 'Khamoor', 'age': 15, 'city': 'Karachi', 'qualification': 'Matric'}\n",
      "{'first_name': 'Abdullah', 'last_name': 'Khamoor', 'age': 15, 'city': 'Karachi', 'qualification': 'Inter'}\n",
      "{'first_name': 'Abdullah', 'last_name': 'Khamoor', 'age': 15, 'city': 'Karachi'}\n"
     ]
    }
   ],
   "source": [
    "pers_info = {\n",
    "    'first_name' : 'Abdullah',\n",
    "    'last_name' : 'Khamoor',\n",
    "    'age' : 15,\n",
    "    'city' : 'Karachi',\n",
    "}\n",
    "print(pers_info)\n",
    "pers_info['qualification'] = 'Matric'\n",
    "print(pers_info)\n",
    "pers_info['qualification'] = 'Inter'\n",
    "print(pers_info)\n",
    "del pers_info['qualification']\n",
    "print(pers_info)"
   ]
  },
  {
   "cell_type": "code",
   "execution_count": 26,
   "metadata": {},
   "outputs": [
    {
     "name": "stdout",
     "output_type": "stream",
     "text": [
      "\n",
      "City: Karachi\n",
      "\tCountry: Pakistan\n",
      "\tPopulation: 14.9 Million\n",
      "\tFact: City Of Lights\n",
      "\n",
      "City: Makkah\n",
      "\tCountry: Saudia Arabia\n",
      "\tPopulation: 1.5 Million\n",
      "\tFact: Holiest Muslim City\n",
      "\n",
      "City: Dubai\n",
      "\tCountry: Uae\n",
      "\tPopulation: 3.17 Million\n",
      "\tFact: City Of Skyscrapers\n"
     ]
    }
   ],
   "source": [
    "cities = {\n",
    "        'karachi' : {\n",
    "                'country' : 'pakistan',\n",
    "                'population' : '14.9 million',\n",
    "                'fact' : 'City of Lights',\n",
    "                },\n",
    "        'makkah' : {\n",
    "                'country' : 'saudia arabia',\n",
    "                'population' : '1.5 million',\n",
    "                'fact' : 'Holiest Muslim city',\n",
    "                },\n",
    "        'dubai' : {\n",
    "                'country' : 'UAE',\n",
    "                'population' : '3.17 million',\n",
    "                'fact' : 'City of Skyscrapers',\n",
    "                },\n",
    "        }\n",
    "for city, city_info in cities.items():\n",
    "    print(\"\\nCity: \" + city.title())\n",
    "    country = city_info['country']\n",
    "    population = city_info['population']\n",
    "    fact = city_info['fact']\n",
    "    \n",
    "    print(\"\\tCountry: \" + country.title())\n",
    "    print(\"\\tPopulation: \" + population.title())\n",
    "    print(\"\\tFact: \" + fact.title())"
   ]
  },
  {
   "cell_type": "code",
   "execution_count": 28,
   "metadata": {},
   "outputs": [
    {
     "name": "stdout",
     "output_type": "stream",
     "text": [
      "\n",
      "Please Enter your Age:\n",
      "(Enter 'quit' when you are finished.) 2\n",
      "The cost of your movie ticket is free.\n",
      "\n",
      "Please Enter your Age:\n",
      "(Enter 'quit' when you are finished.) 3\n",
      "The cost of your movie ticket is $10.\n",
      "\n",
      "Please Enter your Age:\n",
      "(Enter 'quit' when you are finished.) 12\n",
      "The cost of your movie ticket is $15.\n",
      "\n",
      "Please Enter your Age:\n",
      "(Enter 'quit' when you are finished.) quit\n"
     ]
    }
   ],
   "source": [
    "prompt = \"\\nPlease Enter your Age:\"\n",
    "prompt += \"\\n(Enter 'quit' when you are finished.) \"\n",
    "while True:\n",
    "    age = input(prompt)\n",
    "    if age == 'quit':\n",
    "        break\n",
    "    else:\n",
    "        if int(age) < 3:\n",
    "            ticket = 'free'\n",
    "        elif int(age) < 12:\n",
    "            ticket = '$10'\n",
    "        elif int(age) >= 12:\n",
    "            ticket = '$15'\n",
    "        print(\"The cost of your movie ticket is \" + ticket + \".\")"
   ]
  },
  {
   "cell_type": "code",
   "execution_count": 29,
   "metadata": {},
   "outputs": [
    {
     "name": "stdout",
     "output_type": "stream",
     "text": [
      "One of my favorite book is Treasure Island.\n"
     ]
    }
   ],
   "source": [
    "def favorite_book(title):\n",
    "    print(\"One of my favorite book is \" + title + \".\")\n",
    "    \n",
    "favorite_book('Treasure Island')"
   ]
  },
  {
   "cell_type": "code",
   "execution_count": 52,
   "metadata": {},
   "outputs": [
    {
     "name": "stdout",
     "output_type": "stream",
     "text": [
      "*****Guess the Number Game*****\n",
      "You have Three Chances to Play\n",
      "\n",
      "Guess a Correct Number from 1 to 30: 24\n",
      "Your Guess is greater than the Number\n",
      "\n",
      "Guess a Correct Number from 1 to 30: 16\n",
      "Your Guess is greater than the Number\n",
      "\n",
      "Guess a Correct Number from 1 to 30: 11\n",
      "\n",
      "*****Congratualtion you Guess the Number*****\n"
     ]
    }
   ],
   "source": [
    "import random\n",
    "n = random.randint(1,30)\n",
    "chance = 0\n",
    "print(\"*\"*5 + \"Guess the Number Game\" + \"*\"*5)\n",
    "print(\"You have Three Chances to Play\")\n",
    "\n",
    "while chance < 3:\n",
    "    guess = int(input(\"\\nGuess a Correct Number from 1 to 30: \"))\n",
    "    if guess == n:\n",
    "        print(\"\\n\" + \"*\"*5 + \"Congratualtion you Guess the Number\" + \"*\"*5)\n",
    "        break\n",
    "    elif guess < n:\n",
    "        print(\"Your Guess is smaller than the Number\")\n",
    "    elif guess > n:\n",
    "        print(\"Your Guess is greater than the Number\")\n",
    "    chance += 1"
   ]
  }
 ],
 "metadata": {
  "kernelspec": {
   "display_name": "Python 3",
   "language": "python",
   "name": "python3"
  },
  "language_info": {
   "codemirror_mode": {
    "name": "ipython",
    "version": 3
   },
   "file_extension": ".py",
   "mimetype": "text/x-python",
   "name": "python",
   "nbconvert_exporter": "python",
   "pygments_lexer": "ipython3",
   "version": "3.7.3"
  }
 },
 "nbformat": 4,
 "nbformat_minor": 2
}
