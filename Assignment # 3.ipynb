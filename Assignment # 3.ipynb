{
 "cells": [
  {
   "cell_type": "code",
   "execution_count": 8,
   "metadata": {},
   "outputs": [
    {
     "name": "stdout",
     "output_type": "stream",
     "text": [
      "Enter the First Number: 5\n",
      "Enter the Second Number: 6\n",
      "\n",
      "Following operations can be perform:\n",
      "\n",
      "Select '1' for Addition\n",
      "Select '2' for Subtraction\n",
      "Select '3' for Multiplication\n",
      "Select '4' for Division\n",
      "Select '5' for Power\n",
      "Select which operation to perform: 3\n",
      "Result of Multiplication is 30\n"
     ]
    }
   ],
   "source": [
    "num1 = int(input(\"Enter the First Number: \"))\n",
    "num2 = int(input(\"Enter the Second Number: \"))\n",
    "\n",
    "print(\"\\nFollowing operations can be perform:\\n\")\n",
    "print(\"Select '1' for Addition\")\n",
    "print(\"Select '2' for Subtraction\")\n",
    "print(\"Select '3' for Multiplication\")\n",
    "print(\"Select '4' for Division\")\n",
    "print(\"Select '5' for Power\")\n",
    "\n",
    "operation = int(input(\"Select which operation to perform: \"))\n",
    "\n",
    "if operation == 1:\n",
    "    print(\"Result of Addition is\", num1 + num2)\n",
    "elif operation == 2:\n",
    "    print(\"Result of Subtraction is\", num1 - num2)\n",
    "elif operation == 3:\n",
    "    print(\"Result of Multiplication is\", num1 * num2)\n",
    "elif operation == 4:\n",
    "    print(\"Result of Division is\", num1 / num2)\n",
    "elif operation == 5:\n",
    "    print(\"Result of Power is\", num1 ** num2)\n",
    "else:\n",
    "    print(\"Invalid Input\")"
   ]
  },
  {
   "cell_type": "code",
   "execution_count": 4,
   "metadata": {},
   "outputs": [
    {
     "name": "stdout",
     "output_type": "stream",
     "text": [
      "In list numeric value is present.\n"
     ]
    }
   ],
   "source": [
    "l1 = ['Ali', 5, 'Umer', 'Zubair', 'Haris']\n",
    "\n",
    "for n in l1:\n",
    "    if type(n) is int:\n",
    "        print(\"In list numeric value is present.\")"
   ]
  },
  {
   "cell_type": "code",
   "execution_count": 12,
   "metadata": {},
   "outputs": [
    {
     "name": "stdout",
     "output_type": "stream",
     "text": [
      "{'Name': 'Muhammad', 'Age': 20, 'Course': 'Python'}\n"
     ]
    }
   ],
   "source": [
    "dic = {'Name' : 'Muhammad', \"Age\" : 20}\n",
    "dic.update({'Course' : 'Python'})\n",
    "print(dic)"
   ]
  },
  {
   "cell_type": "code",
   "execution_count": 19,
   "metadata": {},
   "outputs": [
    {
     "name": "stdout",
     "output_type": "stream",
     "text": [
      "Sum of all numeric items is 900\n"
     ]
    }
   ],
   "source": [
    "data = {\"a\" : 100, \"b\" : 'Ali', \"c\" : 300, \"d\" : 500}\n",
    "s = 0\n",
    "for n in data.values():\n",
    "    if type(n) is int:\n",
    "        s += n\n",
    "print(\"Sum of all numeric items is\", s)"
   ]
  },
  {
   "cell_type": "code",
   "execution_count": 31,
   "metadata": {},
   "outputs": [
    {
     "name": "stdout",
     "output_type": "stream",
     "text": [
      "[20, 20, 10, 5, 6]\n"
     ]
    }
   ],
   "source": [
    "nums = [10, 20, 5, 20, 6, 20, 10, 5, 2, 9, 6]\n",
    "l = []\n",
    "duplicate = []\n",
    "for n in nums:\n",
    "    if n not in l:\n",
    "        l.append(n)\n",
    "    else:\n",
    "        duplicate.append(n)\n",
    "print(duplicate)"
   ]
  },
  {
   "cell_type": "code",
   "execution_count": 32,
   "metadata": {},
   "outputs": [
    {
     "name": "stdout",
     "output_type": "stream",
     "text": [
      "Key is Present\n"
     ]
    }
   ],
   "source": [
    "dictionary = {'Ali' : 20, 'Umer' : 18, 'Hassan' : 19, 'Haris' : 21}\n",
    "\n",
    "if 'Ali' in dictionary:\n",
    "    print(\"Key is Present\")\n",
    "else:\n",
    "    print(\"Key is not Present\")"
   ]
  }
 ],
 "metadata": {
  "kernelspec": {
   "display_name": "Python 3",
   "language": "python",
   "name": "python3"
  },
  "language_info": {
   "codemirror_mode": {
    "name": "ipython",
    "version": 3
   },
   "file_extension": ".py",
   "mimetype": "text/x-python",
   "name": "python",
   "nbconvert_exporter": "python",
   "pygments_lexer": "ipython3",
   "version": "3.7.3"
  }
 },
 "nbformat": 4,
 "nbformat_minor": 2
}
